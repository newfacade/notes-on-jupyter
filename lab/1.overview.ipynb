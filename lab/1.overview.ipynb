{
 "cells": [
  {
   "cell_type": "markdown",
   "metadata": {},
   "source": [
    "# JupyterLab 概述\n",
    "\n",
    "```{note}\n",
    "JupyterLab is the next-generation web-based user interface for Project Jupyter.<br/>\n",
    "JupyterLab enables you to work with documents and activities such as Jupyter notebooks, text editors, and terminals in a flexible, integrated, and extensible manner.\n",
    "```\n",
    "\n",
    "官网：<https://jupyterlab.readthedocs.io/en/stable/>"
   ]
  },
  {
   "cell_type": "markdown",
   "metadata": {},
   "source": [
    "## JupyterLab 的功能\n",
    "\n",
    "* Jupyter notebooks (.ipynb files) are fully supported in JupyterLab（核心功能）.\n",
    "* Use Code consoles.\n",
    "* Use Terminals.\n",
    "* Multiple views of documents with different editors or viewers（分屏）.\n",
    "* JupyterLab offers a unified model for viewing and handling data formats.\n",
    "\n",
    "那为什么要使用 JupyterLab 呢？Personally:\n",
    "\n",
    "1. 确实很适合做数据科学。\n",
    "2. 别人也在用 Jupyter notebooks（或者类似的 Google colab），比如说某些 GitHub 项目、很多 Coursera 课程的作业、《Dive into Deep Learning》每个页面都是一个 notebook、去 Kaggle 参加比赛需要自己写 notebook 等。\n",
    "3. 用来写 Markdown 文档。\n",
    "4. 用来写 Jupyter Book（我们将在第二部分做详细介绍）。"
   ]
  },
  {
   "cell_type": "markdown",
   "metadata": {},
   "source": [
    "## 安装 JupyterLab\n",
    "\n",
    "通过 pip 安装：\n",
    "\n",
    "```\n",
    "pip install jupyterlab\n",
    "```\n",
    "\n",
    "通过 conda 安装：\n",
    "\n",
    "```\n",
    "conda install -c conda-forge jupyterlab\n",
    "```"
   ]
  },
  {
   "cell_type": "markdown",
   "metadata": {},
   "source": [
    "## 启动 JupyterLab\n",
    "\n",
    "Once installed, launch JupyterLab with:\n",
    "\n",
    "```\n",
    "jupyter lab\n",
    "```\n",
    "\n",
    "JupyterLab will open automatically in your browser（本地运行的 JupyterLab 的 url 一般是 `http://localhost:8888/lab`）:\n",
    "\n",
    "```{image} ../images/lab1.jpg\n",
    ":alt: launch\n",
    ":class: bg-primary mb-1\n",
    ":width: 700px\n",
    "```\n",
    "\n",
    "\n",
    "You may also access JupyterLab by entering the notebook server’s URL into the browser:\n",
    "\n",
    "```\n",
    "http(s)://<server:port>/<lab-location>/lab\n",
    "```"
   ]
  },
  {
   "cell_type": "markdown",
   "metadata": {},
   "source": [
    "## Jupyter 界面\n",
    "\n",
    "```{note}\n",
    "While JupyterLab has many features found in traditional IDEs, it remains focused on interactive, exploratory computing. The JupyterLab interface consists of a `main work area` containing tabs of documents and activities, a collapsible `left sidebar`, and a `menu bar`.\n",
    "```\n",
    "\n",
    "Left Sidebar 从上到下依次是:\n",
    "\n",
    "* a file browser,\n",
    "* a list of tabs in the main work and of running kernels and terminals,\n",
    "* the table of contents,\n",
    "* the extension manager.\n",
    "\n",
    "Menu Bar 和 Main Work Area functioning as you expected."
   ]
  },
  {
   "cell_type": "code",
   "execution_count": null,
   "metadata": {},
   "outputs": [],
   "source": []
  }
 ],
 "metadata": {
  "kernelspec": {
   "display_name": "Python 3",
   "language": "python",
   "name": "python3"
  },
  "language_info": {
   "codemirror_mode": {
    "name": "ipython",
    "version": 3
   },
   "file_extension": ".py",
   "mimetype": "text/x-python",
   "name": "python",
   "nbconvert_exporter": "python",
   "pygments_lexer": "ipython3",
   "version": "3.8.3"
  }
 },
 "nbformat": 4,
 "nbformat_minor": 4
}
