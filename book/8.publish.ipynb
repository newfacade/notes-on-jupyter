{
 "cells": [
  {
   "cell_type": "markdown",
   "metadata": {},
   "source": [
    "# 发布到网上\n",
    "\n",
    "```{note}\n",
    "Once you’ve built the HTML for your book, you can host it online. In this tutorial, we’ll cover how to publish your book online with GitHub Pages.\n",
    "```"
   ]
  },
  {
   "cell_type": "markdown",
   "metadata": {},
   "source": [
    "## 创建 GitHub 仓库\n",
    "\n",
    "In order to connect your hosted book with your book’s source content, you should put your book’s source content in a public repository.\n",
    "\n",
    "1.在 <https://github.com/new> 创建一个新的 repository,` Make your repository public and do not initialize it with a README file`.\n",
    "\n",
    "2.Clone the (currently empty) online repository to a location on your local computer:\n",
    "\n",
    "```\n",
    "git clone https://github.com/<user>/<my-repository-name>\n",
    "```\n",
    "\n",
    "3.Copy all of your book files and folders into this newly cloned repository:\n",
    "\n",
    "```\n",
    "cp -r mybookname/* myonlinebook/\n",
    "```\n",
    "\n",
    "4.同步 local and remote repositories:\n",
    "\n",
    "```\n",
    "cd myonlinebook\n",
    "git add ./*\n",
    "git commit -m \"adding my first book!\"\n",
    "git push\n",
    "```"
   ]
  },
  {
   "cell_type": "markdown",
   "metadata": {},
   "source": [
    "## 发布到网上\n",
    "\n",
    "We have just pushed the `source files` for our book into our GitHub repository. This makes it publicly accessible for you or others to see.\n",
    "\n",
    "将书发布到 Github 需要借助工具 `ghp-import`，可以通过如下命令安装：\n",
    "\n",
    "```md\n",
    "pip install ghp-import\n",
    "```\n",
    "\n",
    "然后在本地的 myonlinebook/ 文件夹下执行如下命令：\n",
    "\n",
    "```md\n",
    "ghp-import -n -p -f _build/html\n",
    "```\n",
    "\n",
    "Typically after a few minutes your site should be viewable online at a url such as: `https://<user>.github.io/<myonlinebook>/`."
   ]
  },
  {
   "cell_type": "code",
   "execution_count": null,
   "metadata": {},
   "outputs": [],
   "source": []
  }
 ],
 "metadata": {
  "kernelspec": {
   "display_name": "Python 3",
   "language": "python",
   "name": "python3"
  },
  "language_info": {
   "codemirror_mode": {
    "name": "ipython",
    "version": 3
   },
   "file_extension": ".py",
   "mimetype": "text/x-python",
   "name": "python",
   "nbconvert_exporter": "python",
   "pygments_lexer": "ipython3",
   "version": "3.8.3"
  }
 },
 "nbformat": 4,
 "nbformat_minor": 4
}
