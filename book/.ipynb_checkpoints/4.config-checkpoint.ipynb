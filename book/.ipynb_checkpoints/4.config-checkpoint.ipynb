{
 "cells": [
  {
   "cell_type": "markdown",
   "metadata": {},
   "source": [
    "# 配置项和目录\n",
    "\n",
    "```{note}\n",
    "之前我们通过样书简单介绍了配置项（_config.yml）和目录（_toc.yml），这节我们来更详细地介绍它们。\n",
    "```"
   ]
  },
  {
   "cell_type": "markdown",
   "metadata": {},
   "source": [
    "## 配置项\n",
    "\n",
    "下面大部分都是 Configuration defaults\n",
    "\n",
    "### Book settings\n",
    "```yaml\n",
    "# The title of the book. Will be placed in the left navbar.\n",
    "title                       : My Jupyter Book\n",
    "\n",
    "# The author of the book\n",
    "author                      : The Jupyter Book community\n",
    "\n",
    "# Copyright year to be placed in the footer\n",
    "copyright                   : \"2022\"\n",
    "\n",
    "# A path to the book logo\n",
    "logo                        : \"\"\n",
    "\n",
    "# Patterns to skip when building the book. Can be glob-style (e.g. \"*skip.ipynb\")\n",
    "exclude_patterns            : [_build, Thumbs.db, .DS_Store, \"**.ipynb_checkpoints\"]\n",
    "\n",
    "# Auto-exclude files not in the toc\n",
    "only_build_toc_files        : false\n",
    "```\n",
    "\n",
    "### Execution settings\n",
    "```yaml\n",
    "execute:\n",
    "  # Whether to execute notebooks at build time. \n",
    "  # Must be one of (\"auto\", \"force\", \"cache\", \"off\")\n",
    "  execute_notebooks         : auto\n",
    "  \n",
    "  # The maximum time (in seconds) each notebook cell is allowed to run.\n",
    "  timeout                   : 30\n",
    "  \n",
    "  # If `False`, when a code cell raises an error the execution is stopped.\n",
    "  allow_errors              : false\n",
    "```\n",
    "\n",
    "### HTML-specific settings\n",
    "\n",
    "```yaml\n",
    "html:\n",
    "  favicon                   : \"\"  # A path to a favicon image\n",
    "```\n",
    "\n",
    "### Citations and bibliographies\n",
    "\n",
    "```yaml\n",
    "bibtex_bibfiles:\n",
    "    - references.bib  # A path to bibtex file\n",
    "```"
   ]
  },
  {
   "cell_type": "markdown",
   "metadata": {},
   "source": [
    "## 目录\n",
    "\n",
    "可以按 part-chapter-section 组织，就像（`注意格式`）：\n",
    "\n",
    "```yaml\n",
    "format: jb-book\n",
    "root: index\n",
    "parts:\n",
    "  - caption: Name of Part 1\n",
    "    chapters:\n",
    "    - file: path/to/part1/chapter1\n",
    "    - file: path/to/part1/chapter2\n",
    "      sections:\n",
    "      - file: path/to/part1/chapter2/section1\n",
    "  - caption: Name of Part 2\n",
    "    chapters:\n",
    "    - file: path/to/part2/chapter1\n",
    "    - file: path/to/part2/chapter2\n",
    "      sections:\n",
    "      - file: path/to/part2/chapter2/section1\n",
    "```"
   ]
  },
  {
   "cell_type": "code",
   "execution_count": null,
   "metadata": {},
   "outputs": [],
   "source": []
  }
 ],
 "metadata": {
  "kernelspec": {
   "display_name": "Python 3",
   "language": "python",
   "name": "python3"
  },
  "language_info": {
   "codemirror_mode": {
    "name": "ipython",
    "version": 3
   },
   "file_extension": ".py",
   "mimetype": "text/x-python",
   "name": "python",
   "nbconvert_exporter": "python",
   "pygments_lexer": "ipython3",
   "version": "3.8.3"
  }
 },
 "nbformat": 4,
 "nbformat_minor": 4
}
