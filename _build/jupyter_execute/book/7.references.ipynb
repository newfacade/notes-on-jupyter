{
 "cells": [
  {
   "cell_type": "markdown",
   "metadata": {},
   "source": [
    "# References and Citations\n",
    "\n",
    "```{note}\n",
    "References allow you to refer to other content in your book or to external content.<br/>\n",
    "Citations（引用） and bibliographies（参考书目） allow you to cite scholarly work and provide bibliographies that allow readers to follow the references.\n",
    "```"
   ]
  },
  {
   "cell_type": "markdown",
   "metadata": {},
   "source": [
    "## References\n",
    "\n",
    "Cross-references in Jupyter Book usually involve two things:\n",
    "\n",
    "1. Create a label for something.\n",
    "2. Create a reference with a target.\n",
    "\n",
    "### 创建 label\n",
    "\n",
    "Labels must come just before headers.\n",
    "\n",
    "```md\n",
    "(my-label)=\n",
    "## My header\n",
    "\n",
    "Some text\n",
    "```\n",
    "\n",
    "This is how you specify a label called `my-label` that points to the header just below (`## My header`).\n",
    "\n",
    "### Refer to your label\n",
    "\n",
    "Now that you’ve created a label, you can refer to it from elsewhere.\n",
    "\n",
    "```md\n",
    "Here's some text and [here's my label](my-label).\n",
    "```\n",
    "\n",
    "其中中括号内是 refer 应当显示的 text."
   ]
  },
  {
   "cell_type": "markdown",
   "metadata": {},
   "source": [
    "## Citations\n",
    "\n",
    "首先你需要一个 bibtex file 用于存放所需的 citations. 比如说在样书（sample book）中就有 `references.bib`\n",
    "\n",
    "```\n",
    "# In references.bib\n",
    "@inproceedings{holdgraf_evidence_2014,\n",
    "\taddress = {Brisbane, Australia, Australia},\n",
    "\ttitle = {Evidence for {Predictive} {Coding} in {Human} {Auditory} {Cortex}},\n",
    "\tbooktitle = {International {Conference} on {Cognitive} {Neuroscience}},\n",
    "\tpublisher = {Frontiers in Neuroscience},\n",
    "\tauthor = {Holdgraf, Christopher Ramsay and de Heer, Wendy and Pasley, Brian N. and Knight, Robert T.},\n",
    "\tyear = {2014}\n",
    "}\n",
    "```\n",
    "\n",
    "然后需要再 `_config.yml` 中包括进这个 bibtex file:\n",
    "\n",
    "```yaml\n",
    "bibtex_bibfiles:\n",
    "    - references.bib\n",
    "```\n",
    "\n",
    "In your content, add the following syntax to include a citation:\n",
    "\n",
    "```md\n",
    "Here is my nifty citation {cite}`holdgraf_evidence_2014`.\n",
    "```\n",
    "\n",
    "它会被渲染为：\n",
    "\n",
    "Here is my nifty citation {cite}`holdgraf_evidence_2014`.\n",
    "\n",
    "\n",
    "## Bibliography\n",
    "\n",
    "Finally, we’ll generate a bibliography for our citations. Links to this bibliography will automatically be created when you cite something.\n",
    "\n",
    "点击任一引用时会自动跳转到 bibliography 的相关条目，我们使用如下语句来添加 bibliography:\n",
    "\n",
    "````\n",
    "```{bibliography}\n",
    "```\n",
    "````\n",
    "\n",
    "它会被渲染为：\n",
    "\n",
    "```{bibliography}\n",
    "```"
   ]
  },
  {
   "cell_type": "code",
   "execution_count": null,
   "metadata": {},
   "outputs": [],
   "source": []
  }
 ],
 "metadata": {
  "kernelspec": {
   "display_name": "Python 3",
   "language": "python",
   "name": "python3"
  },
  "language_info": {
   "codemirror_mode": {
    "name": "ipython",
    "version": 3
   },
   "file_extension": ".py",
   "mimetype": "text/x-python",
   "name": "python",
   "nbconvert_exporter": "python",
   "pygments_lexer": "ipython3",
   "version": "3.8.3"
  }
 },
 "nbformat": 4,
 "nbformat_minor": 4
}