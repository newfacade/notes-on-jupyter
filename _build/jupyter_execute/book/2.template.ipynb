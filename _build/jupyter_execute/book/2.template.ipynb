{
 "cells": [
  {
   "cell_type": "markdown",
   "metadata": {},
   "source": [
    "# 样书\n",
    "\n",
    "```{note}\n",
    "通过案例来学习是最快的！\n",
    "```\n",
    "\n",
    "## 创建样书\n",
    "\n",
    "Jupyter Book comes bundled with a lightweight sample book to help you understand a book’s structure. 创建样书（sample book）的命令：\n",
    "\n",
    "```\n",
    "jupyter-book create mybookname/\n",
    "```"
   ]
  },
  {
   "cell_type": "markdown",
   "metadata": {},
   "source": [
    "## 样书结构\n",
    "\n",
    "Take a look at the book that you just created:\n",
    "\n",
    "```\n",
    "mybookname/\n",
    "├── _config.yml\n",
    "├── _toc.yml\n",
    "├── intro.md\n",
    "├── logo.png\n",
    "├── markdown-notebooks.md\n",
    "├── markdown.md\n",
    "├── notebooks.ipynb\n",
    "├── references.bib\n",
    "└── requirements.txt\n",
    "```\n",
    "\n",
    "其中最重要的是\n",
    "\n",
    "* _config.yml 总配置文件，配置书名、作者、build方式等\n",
    "\n",
    "* _toc.yml 目录文件\n",
    "\n",
    "* 内容文件，包括 intro&#46;md,  markdown&#46;md,  notebooks.ipynb,  markdown-notebooks&#46;md"
   ]
  },
  {
   "cell_type": "markdown",
   "metadata": {},
   "source": [
    "## 配置文件 (_config.yml)\n",
    "\n",
    "我们主要关心以下几项:\n",
    "\n",
    "```yaml\n",
    "title: My sample book  # 书名\n",
    "author: The Jupyter Book Community  # 作者名\n",
    "logo: logo.png  # 书 logo 图片的地址\n",
    "\n",
    "# force: force the execution of all notebooks.\n",
    "# auto: will only execute notebooks that are missing at least one output.\n",
    "# off: turn off notebook execution.\n",
    "execute:\n",
    "  execute_notebooks: force\n",
    "```"
   ]
  },
  {
   "cell_type": "markdown",
   "metadata": {},
   "source": [
    "## 目录文件 (_toc.yml)\n",
    "\n",
    "Each entry relates to a file, they should be added as names with `no extensions` and `relative to your book's root folder`.\n",
    "\n",
    "```yaml\n",
    "format: jb-book  # 可选 jb-book 或 jb-article\n",
    "root: intro  # 落地页 intro.md\n",
    "chapters:\n",
    "- file: markdown  # 第一章 markdown.md\n",
    "- file: notebooks  # 第二章 notebooks.ipynb\n",
    "- file: markdown-notebooks  # 第三章 markdown-notebooks.md\n",
    "```\n",
    "\n",
    "```{caution}\n",
    "注意格式！\n",
    "```"
   ]
  },
  {
   "cell_type": "markdown",
   "metadata": {},
   "source": [
    "## 内容\n",
    "\n",
    "A collection of text files make up your book's content, these can be:\n",
    "\n",
    "### Markdown 文件 (.md)\n",
    "\n",
    "intro&#46;md 和 markdown&#46;md 是这种格式\n",
    "\n",
    "我们的 markdown 文件除了可以使用通用的 markdown 语法外(e.g., using `**bold**` to denote **bold**)，还可以使用一些扩展语法使我们的文档更漂亮，比如说\n",
    "\n",
    "````md\n",
    "```{note}\n",
    "Here is a note\n",
    "```\n",
    "````\n",
    "\n",
    "会被 Jupyter Book 渲染为\n",
    "\n",
    "```{note}\n",
    "Here is a note\n",
    "```\n",
    "\n",
    "```{caution}\n",
    "All content files must have a page title (specified as the first header). All subsequent headers must increase linearly (so no jumps from H1 to H3).\n",
    "```\n",
    "\n",
    "\n",
    "### Jupyter Notebooks (.ipynb)\n",
    "\n",
    "notebooks.ipynb 是这种格式\n",
    "\n",
    "每一个 notebook 都会对应到一个 kernel (Python, R, Julia 等，我们只使用 Python 3) that defines the language used to execute the notebook's computational content.\n",
    "\n",
    "### MyST Markdown Notebooks (.md)\n",
    "\n",
    "markdown-notebooks&#46;md 是这种格式\n",
    "\n",
    "Finally, you can combine Jupyter Notebook and text formats with Jupyter Book. This allows you to write the structure of a Jupyter Notebook entirely with text.\n",
    "\n",
    "这种格式的特征是开头有一个 YAML metadata blog ，我们一般不会用到，了解即可。"
   ]
  },
  {
   "cell_type": "code",
   "execution_count": null,
   "metadata": {},
   "outputs": [],
   "source": []
  }
 ],
 "metadata": {
  "kernelspec": {
   "display_name": "Python 3",
   "language": "python",
   "name": "python3"
  },
  "language_info": {
   "codemirror_mode": {
    "name": "ipython",
    "version": 3
   },
   "file_extension": ".py",
   "mimetype": "text/x-python",
   "name": "python",
   "nbconvert_exporter": "python",
   "pygments_lexer": "ipython3",
   "version": "3.8.3"
  }
 },
 "nbformat": 4,
 "nbformat_minor": 4
}