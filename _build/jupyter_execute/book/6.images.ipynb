{
 "cells": [
  {
   "cell_type": "markdown",
   "metadata": {},
   "source": [
    "# 图片\n",
    "\n",
    "MyST Markdown provides a few different syntaxes for including images in your documents, as explained below."
   ]
  },
  {
   "cell_type": "markdown",
   "metadata": {},
   "source": [
    "## 标准 markdown 语法\n",
    "\n",
    "```\n",
    "![fishy](../images/fun-fish.png)\n",
    "```\n",
    "\n",
    "其中中括号里是图片的描述（caption），小括号里是图片位置，它会被渲染为\n",
    "\n",
    "![fishy](../images/fun-fish.png)\n",
    "\n",
    "这种方法很简便，但是不能调宽度，对齐等。"
   ]
  },
  {
   "cell_type": "markdown",
   "metadata": {},
   "source": [
    "## MyST 语法\n",
    "\n",
    "MyST 有专门的语法用来插入图片：\n",
    "\n",
    "````\n",
    "```{image} ../images/fun-fish.png\n",
    ":alt: fishy\n",
    ":class: bg-primary mb-1\n",
    ":width: 200px\n",
    ":align: center\n",
    "```\n",
    "````\n",
    "\n",
    "其中 class 用于指定样式，它会被渲染为\n",
    "\n",
    "```{image} ../images/fun-fish.png\n",
    ":alt: fishy\n",
    ":class: bg-primary mb-1\n",
    ":width: 200px\n",
    ":align: center\n",
    "```"
   ]
  },
  {
   "cell_type": "markdown",
   "metadata": {},
   "source": [
    "## Raw HTML 图片\n",
    "\n",
    "The image syntax described above gives you more customizability, but note that this syntax will not show the image in common Markdown viewers.\n",
    "\n",
    "要使用 HTML 图片，得先在 `_config.yml` 中做如下设置：\n",
    "\n",
    "````\n",
    "parse:\n",
    "  myst_enable_extensions:\n",
    "    # don't forget to list any other extensions you want enabled,\n",
    "    # including those that are enabled by default!\n",
    "    - html_image\n",
    "````\n",
    "\n",
    "HTML images will be parsed like any other image. For example:\n",
    "\n",
    "````\n",
    "<img src=\"../images/fun-fish.png\" alt=\"fishy\" class=\"bg-primary\" width=\"200px\">\n",
    "````\n",
    "\n",
    "will correctly render\n",
    "\n",
    "<img src=\"../images/fun-fish.png\" alt=\"fishy\" class=\"bg-primary\" width=\"200px\">\n",
    "\n",
    "```{warning}\n",
    "Using raw HTML is usually a bad choice, so be careful before doing so!\n",
    "```"
   ]
  },
  {
   "cell_type": "markdown",
   "metadata": {},
   "source": [
    "## Figures\n",
    "\n",
    "MyST Markdown also lets you include figures in your page. Figures are like images, except that they are `easier to reference elsewhere` in your book, and they include things like captions. To include a figure, use this syntax:\n",
    "\n",
    "````\n",
    "```{figure} ../images/C-3PO_droid.png\n",
    "---\n",
    "height: 150px\n",
    "name: directive-fig\n",
    "---\n",
    "Here is my figure caption!\n",
    "```\n",
    "````\n",
    "\n",
    "which will produce the following:\n",
    "\n",
    "```{figure} ../images/C-3PO_droid.png\n",
    "---\n",
    "height: 150px\n",
    "name: directive-fig\n",
    "---\n",
    "Here is my figure caption!\n",
    "```"
   ]
  },
  {
   "cell_type": "code",
   "execution_count": null,
   "metadata": {},
   "outputs": [],
   "source": []
  }
 ],
 "metadata": {
  "kernelspec": {
   "display_name": "Python 3",
   "language": "python",
   "name": "python3"
  },
  "language_info": {
   "codemirror_mode": {
    "name": "ipython",
    "version": 3
   },
   "file_extension": ".py",
   "mimetype": "text/x-python",
   "name": "python",
   "nbconvert_exporter": "python",
   "pygments_lexer": "ipython3",
   "version": "3.8.3"
  }
 },
 "nbformat": 4,
 "nbformat_minor": 4
}