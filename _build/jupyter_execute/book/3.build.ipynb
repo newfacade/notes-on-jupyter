{
 "cells": [
  {
   "cell_type": "markdown",
   "metadata": {},
   "source": [
    "# Build your book\n",
    "\n",
    "在创建好一系列的 notebook/Markdown 内容文件，编辑好配置文件 `_config.yml` 和目录文件 `_toc.yml` 后。<br/>\n",
    "Now build the HTML for your book by runing the following command:\n",
    "\n",
    "```\n",
    "jupyter-book build mybookname/\n",
    "```\n",
    "\n",
    "这会生成一个 fully-functioning HTML site, the site will be placed in the _build/html folder, something like this:\n",
    "\n",
    "```\n",
    "mybookname\n",
    " └──_build\n",
    "    └── html\n",
    "       ├── _images\n",
    "       ├── _static\n",
    "       ├── index.html\n",
    "       ├── intro.html\n",
    "       ...\n",
    "```\n",
    "\n",
    "These are the static files for a standalone website! They contain the HTML and all assets needed to view your book in a browser.\n",
    "\n",
    "现在点击 `index.html` 就可以本地预览啦！"
   ]
  },
  {
   "cell_type": "code",
   "execution_count": null,
   "metadata": {},
   "outputs": [],
   "source": []
  }
 ],
 "metadata": {
  "kernelspec": {
   "display_name": "Python 3",
   "language": "python",
   "name": "python3"
  },
  "language_info": {
   "codemirror_mode": {
    "name": "ipython",
    "version": 3
   },
   "file_extension": ".py",
   "mimetype": "text/x-python",
   "name": "python",
   "nbconvert_exporter": "python",
   "pygments_lexer": "ipython3",
   "version": "3.8.3"
  }
 },
 "nbformat": 4,
 "nbformat_minor": 4
}