{
 "cells": [
  {
   "cell_type": "markdown",
   "metadata": {},
   "source": [
    "# MyST Markdown\n",
    "\n",
    "```{note}\n",
    "Jupyter Book support MyST (or Markedly Structured Text), it is a supperset of CommonMark Markdown.\n",
    "```"
   ]
  },
  {
   "cell_type": "markdown",
   "metadata": {},
   "source": [
    "## Directives\n",
    "\n",
    "````md\n",
    "```{note}\n",
    "Here is a note\n",
    "```\n",
    "````\n",
    "```{note}\n",
    "Here is a note\n",
    "```\n",
    "<br/>\n",
    "\n",
    "\n",
    "````md\n",
    "```{tip}\n",
    "This is a tip\n",
    "```\n",
    "````\n",
    "```{tip}\n",
    "This is a tip\n",
    "```\n",
    "<br/>\n",
    "\n",
    "\n",
    "````md\n",
    "```{caution}\n",
    "This is a caution\n",
    "```\n",
    "````\n",
    "```{caution}\n",
    "This is a caution\n",
    "```\n",
    "<br/>\n",
    "\n",
    "\n",
    "````md\n",
    "```{warning}\n",
    "This is a warning\n",
    "```\n",
    "````\n",
    "```{warning}\n",
    "This is a warning\n",
    "```\n",
    "<br/>\n",
    "\n",
    "\n",
    "````md\n",
    "```{seealso}\n",
    "This is a see also\n",
    "```\n",
    "````\n",
    "```{seealso}\n",
    "This is a see also\n",
    "```"
   ]
  },
  {
   "cell_type": "markdown",
   "metadata": {},
   "source": [
    "## 目录\n",
    "\n",
    "在 root page 写就是各个 chapters，在 chapter file 写就是各个 sections.\n",
    "\n",
    "````md\n",
    "```{tableofcontents}\n",
    "```\n",
    "````"
   ]
  },
  {
   "cell_type": "code",
   "execution_count": null,
   "metadata": {},
   "outputs": [],
   "source": []
  }
 ],
 "metadata": {
  "kernelspec": {
   "display_name": "Python 3",
   "language": "python",
   "name": "python3"
  },
  "language_info": {
   "codemirror_mode": {
    "name": "ipython",
    "version": 3
   },
   "file_extension": ".py",
   "mimetype": "text/x-python",
   "name": "python",
   "nbconvert_exporter": "python",
   "pygments_lexer": "ipython3",
   "version": "3.8.3"
  }
 },
 "nbformat": 4,
 "nbformat_minor": 4
}
