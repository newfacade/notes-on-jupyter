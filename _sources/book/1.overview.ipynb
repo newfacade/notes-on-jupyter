{
 "cells": [
  {
   "cell_type": "markdown",
   "metadata": {},
   "source": [
    "# 概述\n",
    "\n",
    "```{note}\n",
    "Jupyter Book is an open-source tool for building publication-quality books and documents from markdown files and Jupyter notebooks.\n",
    "```\n",
    "\n",
    "官网 https://jupyterbook.org/en/stable/intro.html"
   ]
  },
  {
   "cell_type": "markdown",
   "metadata": {},
   "source": [
    "## 安装 Jupyter Book\n",
    "\n",
    "通过 pip 安装：\n",
    "\n",
    "```\n",
    "pip install -U jupyter-book\n",
    "```\n",
    "\n",
    "通过 conda 安装：\n",
    "\n",
    "```\n",
    "conda install -c conda-forge jupyter-book\n",
    "```"
   ]
  },
  {
   "cell_type": "markdown",
   "metadata": {},
   "source": [
    "## 步骤\n",
    "\n",
    "总的来说，写一本 jupyter book 分三步\n",
    "\n",
    "1. **Create your book's content**.<br/>在本地一个文件夹中，准备好书的内容文件（markdowns，jupyter notebooks，图片）和配置文件（_config.yml 和 _toc.yml）\n",
    "\n",
    "\n",
    "2. **Build your book**.<br/>使用 Jupyter Book 命令将第一步的内容文件按指定配置转化为 HTML 文件，这样就可以在本地预览啦\n",
    "\n",
    "\n",
    "3. **Publish your book online**.<br/>使用 Jupyter Book 命令将书发布到网上，一般是发布到 `https://<user>.github.io/<myonlinebook>/`"
   ]
  },
  {
   "cell_type": "code",
   "execution_count": null,
   "metadata": {},
   "outputs": [],
   "source": []
  }
 ],
 "metadata": {
  "kernelspec": {
   "display_name": "Python 3",
   "language": "python",
   "name": "python3"
  },
  "language_info": {
   "codemirror_mode": {
    "name": "ipython",
    "version": 3
   },
   "file_extension": ".py",
   "mimetype": "text/x-python",
   "name": "python",
   "nbconvert_exporter": "python",
   "pygments_lexer": "ipython3",
   "version": "3.8.3"
  }
 },
 "nbformat": 4,
 "nbformat_minor": 4
}
